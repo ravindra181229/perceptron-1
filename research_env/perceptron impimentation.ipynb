{
 "cells": [
  {
   "cell_type": "code",
   "execution_count": 56,
   "id": "ae7d8898",
   "metadata": {},
   "outputs": [],
   "source": [
    "import os\n",
    "import matplotlib.pyplot as plt\n",
    "import joblib\n",
    "import numpy as np\n",
    "plt.style.use(\"fivethirtyeight\")\n",
    "import pandas as pd"
   ]
  },
  {
   "cell_type": "code",
   "execution_count": 1,
   "id": "12c31718",
   "metadata": {},
   "outputs": [
    {
     "name": "stdout",
     "output_type": "stream",
     "text": [
      "Collecting joblib\n",
      "  Using cached joblib-1.1.0-py2.py3-none-any.whl (306 kB)\n",
      "Installing collected packages: joblib\n",
      "Successfully installed joblib-1.1.0\n"
     ]
    }
   ],
   "source": [
    "!pip install joblib"
   ]
  },
  {
   "cell_type": "code",
   "execution_count": 76,
   "id": "8302a241",
   "metadata": {},
   "outputs": [],
   "source": [
    "class perceptron:\n",
    "    #epochs = no_of_iterations\n",
    "    def __init__(self,eta: float=None, epochs: int=None):\n",
    "        self.weights = np.random.rand(3) * 1e-4\n",
    "        self.eta = eta #learning rate\n",
    "        self.epochs = epochs # no of iterations\n",
    "        \n",
    "    def _z_outcome(self, inputs, weights):\n",
    "        return np.dot(inputs, weights)\n",
    "        \n",
    "        \n",
    "    def activation_function(self, z):\n",
    "        return np.where(z> 0, 1, 0) # if z > 0, than put 1 otherwise put 0\n",
    "    \n",
    "        \n",
    "    \n",
    "    def fit(self,x,y):\n",
    "        self.x = x\n",
    "        self.y = y\n",
    "        # np.c_ is concatination\n",
    "        x_with_bias = np.c_[self.x,-np.ones((len(self.x), 1))]\n",
    "        print(f\"X with bias : \\n {x_with_bias}\")\n",
    "        \n",
    "        for epoch in range(self.epochs):\n",
    "            print(\"--\"*10)\n",
    "            print(f\"for epoch >>{epoch+1}\")\n",
    "            print(\"--\"*10)\n",
    "            \n",
    "            z = self._z_outcome(x_with_bias, self.weights)\n",
    "            y_hat = self.activation_function(z)\n",
    "            print(f\"predicted value after forward pass : \\n {y_hat}\")\n",
    "            self.error = self.y - y_hat\n",
    "            print(f\"error : \\n{self.error}\")\n",
    "    \n",
    "            \n",
    "            self.weights = self.weights + self.eta * np.dot(x_with_bias.T, self.error)\n",
    "            print(f\"updated weights after epoch : {epoch + 1}/{self.epochs} : \\n {self.weights}\")\n",
    "            print(f\"**\"*10)\n",
    "            \n",
    "    def predict(self, x):\n",
    "        x_with_bias = np.c_[x,-np.ones((len(x), 1))]\n",
    "        z = self._z_outcome(x_with_bias, self.weights)\n",
    "        return self.activation_function(z)"
   ]
  },
  {
   "cell_type": "code",
   "execution_count": 77,
   "id": "1ce66711",
   "metadata": {},
   "outputs": [
    {
     "data": {
      "text/html": [
       "<div>\n",
       "<style scoped>\n",
       "    .dataframe tbody tr th:only-of-type {\n",
       "        vertical-align: middle;\n",
       "    }\n",
       "\n",
       "    .dataframe tbody tr th {\n",
       "        vertical-align: top;\n",
       "    }\n",
       "\n",
       "    .dataframe thead th {\n",
       "        text-align: right;\n",
       "    }\n",
       "</style>\n",
       "<table border=\"1\" class=\"dataframe\">\n",
       "  <thead>\n",
       "    <tr style=\"text-align: right;\">\n",
       "      <th></th>\n",
       "      <th>x1</th>\n",
       "      <th>x2</th>\n",
       "      <th>y</th>\n",
       "    </tr>\n",
       "  </thead>\n",
       "  <tbody>\n",
       "    <tr>\n",
       "      <th>0</th>\n",
       "      <td>0</td>\n",
       "      <td>0</td>\n",
       "      <td>0</td>\n",
       "    </tr>\n",
       "    <tr>\n",
       "      <th>1</th>\n",
       "      <td>0</td>\n",
       "      <td>1</td>\n",
       "      <td>1</td>\n",
       "    </tr>\n",
       "    <tr>\n",
       "      <th>2</th>\n",
       "      <td>1</td>\n",
       "      <td>0</td>\n",
       "      <td>1</td>\n",
       "    </tr>\n",
       "    <tr>\n",
       "      <th>3</th>\n",
       "      <td>1</td>\n",
       "      <td>1</td>\n",
       "      <td>1</td>\n",
       "    </tr>\n",
       "  </tbody>\n",
       "</table>\n",
       "</div>"
      ],
      "text/plain": [
       "   x1  x2  y\n",
       "0   0   0  0\n",
       "1   0   1  1\n",
       "2   1   0  1\n",
       "3   1   1  1"
      ]
     },
     "execution_count": 77,
     "metadata": {},
     "output_type": "execute_result"
    }
   ],
   "source": [
    "Or = {\n",
    "   \"x1\":[0,0,1,1],\n",
    "    \"x2\":[0,1,0,1],\n",
    "    \"y\":[0,1,1,1]\n",
    "}\n",
    "df_or = pd.DataFrame(Or)\n",
    "\n",
    "df_or"
   ]
  },
  {
   "cell_type": "code",
   "execution_count": 78,
   "id": "d29ef833",
   "metadata": {},
   "outputs": [],
   "source": [
    "def prepare_data(df, target_col = \"y\"):\n",
    "    x = df.drop(target_col, axis = 1)\n",
    "    y = df[target_col]\n",
    "    return x, y "
   ]
  },
  {
   "cell_type": "code",
   "execution_count": 79,
   "id": "a52c4d95",
   "metadata": {},
   "outputs": [
    {
     "name": "stdout",
     "output_type": "stream",
     "text": [
      "X with bias : \n",
      " [[ 0.  0. -1.]\n",
      " [ 0.  1. -1.]\n",
      " [ 1.  0. -1.]\n",
      " [ 1.  1. -1.]]\n",
      "--------------------\n",
      "for epoch >>1\n",
      "--------------------\n",
      "predicted value after forward pass : \n",
      " [0 0 0 0]\n",
      "error : \n",
      "0    0\n",
      "1    1\n",
      "2    1\n",
      "3    1\n",
      "Name: y, dtype: int64\n",
      "updated weights after epoch : 1/10 : \n",
      " [ 0.20000247  0.2000318  -0.29995801]\n",
      "********************\n",
      "--------------------\n",
      "for epoch >>2\n",
      "--------------------\n",
      "predicted value after forward pass : \n",
      " [1 1 1 1]\n",
      "error : \n",
      "0   -1\n",
      "1    0\n",
      "2    0\n",
      "3    0\n",
      "Name: y, dtype: int64\n",
      "updated weights after epoch : 2/10 : \n",
      " [ 0.20000247  0.2000318  -0.19995801]\n",
      "********************\n",
      "--------------------\n",
      "for epoch >>3\n",
      "--------------------\n",
      "predicted value after forward pass : \n",
      " [1 1 1 1]\n",
      "error : \n",
      "0   -1\n",
      "1    0\n",
      "2    0\n",
      "3    0\n",
      "Name: y, dtype: int64\n",
      "updated weights after epoch : 3/10 : \n",
      " [ 0.20000247  0.2000318  -0.09995801]\n",
      "********************\n",
      "--------------------\n",
      "for epoch >>4\n",
      "--------------------\n",
      "predicted value after forward pass : \n",
      " [1 1 1 1]\n",
      "error : \n",
      "0   -1\n",
      "1    0\n",
      "2    0\n",
      "3    0\n",
      "Name: y, dtype: int64\n",
      "updated weights after epoch : 4/10 : \n",
      " [2.00002471e-01 2.00031795e-01 4.19944364e-05]\n",
      "********************\n",
      "--------------------\n",
      "for epoch >>5\n",
      "--------------------\n",
      "predicted value after forward pass : \n",
      " [0 1 1 1]\n",
      "error : \n",
      "0    0\n",
      "1    0\n",
      "2    0\n",
      "3    0\n",
      "Name: y, dtype: int64\n",
      "updated weights after epoch : 5/10 : \n",
      " [2.00002471e-01 2.00031795e-01 4.19944364e-05]\n",
      "********************\n",
      "--------------------\n",
      "for epoch >>6\n",
      "--------------------\n",
      "predicted value after forward pass : \n",
      " [0 1 1 1]\n",
      "error : \n",
      "0    0\n",
      "1    0\n",
      "2    0\n",
      "3    0\n",
      "Name: y, dtype: int64\n",
      "updated weights after epoch : 6/10 : \n",
      " [2.00002471e-01 2.00031795e-01 4.19944364e-05]\n",
      "********************\n",
      "--------------------\n",
      "for epoch >>7\n",
      "--------------------\n",
      "predicted value after forward pass : \n",
      " [0 1 1 1]\n",
      "error : \n",
      "0    0\n",
      "1    0\n",
      "2    0\n",
      "3    0\n",
      "Name: y, dtype: int64\n",
      "updated weights after epoch : 7/10 : \n",
      " [2.00002471e-01 2.00031795e-01 4.19944364e-05]\n",
      "********************\n",
      "--------------------\n",
      "for epoch >>8\n",
      "--------------------\n",
      "predicted value after forward pass : \n",
      " [0 1 1 1]\n",
      "error : \n",
      "0    0\n",
      "1    0\n",
      "2    0\n",
      "3    0\n",
      "Name: y, dtype: int64\n",
      "updated weights after epoch : 8/10 : \n",
      " [2.00002471e-01 2.00031795e-01 4.19944364e-05]\n",
      "********************\n",
      "--------------------\n",
      "for epoch >>9\n",
      "--------------------\n",
      "predicted value after forward pass : \n",
      " [0 1 1 1]\n",
      "error : \n",
      "0    0\n",
      "1    0\n",
      "2    0\n",
      "3    0\n",
      "Name: y, dtype: int64\n",
      "updated weights after epoch : 9/10 : \n",
      " [2.00002471e-01 2.00031795e-01 4.19944364e-05]\n",
      "********************\n",
      "--------------------\n",
      "for epoch >>10\n",
      "--------------------\n",
      "predicted value after forward pass : \n",
      " [0 1 1 1]\n",
      "error : \n",
      "0    0\n",
      "1    0\n",
      "2    0\n",
      "3    0\n",
      "Name: y, dtype: int64\n",
      "updated weights after epoch : 10/10 : \n",
      " [2.00002471e-01 2.00031795e-01 4.19944364e-05]\n",
      "********************\n"
     ]
    }
   ],
   "source": [
    "x,y = prepare_data(df_or)\n",
    "ETA = 0.1\n",
    "EPOCHS = 10\n",
    "\n",
    "model_or = perceptron(eta=ETA, epochs=EPOCHS)\n",
    "model_or.fit(x,y)"
   ]
  },
  {
   "cell_type": "code",
   "execution_count": 71,
   "id": "49d706a3",
   "metadata": {},
   "outputs": [
    {
     "data": {
      "text/plain": [
       "array([0])"
      ]
     },
     "execution_count": 71,
     "metadata": {},
     "output_type": "execute_result"
    }
   ],
   "source": [
    "model_or.predict(x=[[0,0]])"
   ]
  },
  {
   "cell_type": "code",
   "execution_count": 63,
   "id": "3d9cd8c3",
   "metadata": {},
   "outputs": [
    {
     "data": {
      "text/html": [
       "<div>\n",
       "<style scoped>\n",
       "    .dataframe tbody tr th:only-of-type {\n",
       "        vertical-align: middle;\n",
       "    }\n",
       "\n",
       "    .dataframe tbody tr th {\n",
       "        vertical-align: top;\n",
       "    }\n",
       "\n",
       "    .dataframe thead th {\n",
       "        text-align: right;\n",
       "    }\n",
       "</style>\n",
       "<table border=\"1\" class=\"dataframe\">\n",
       "  <thead>\n",
       "    <tr style=\"text-align: right;\">\n",
       "      <th></th>\n",
       "      <th>x1</th>\n",
       "      <th>x2</th>\n",
       "    </tr>\n",
       "  </thead>\n",
       "  <tbody>\n",
       "    <tr>\n",
       "      <th>0</th>\n",
       "      <td>0</td>\n",
       "      <td>0</td>\n",
       "    </tr>\n",
       "    <tr>\n",
       "      <th>1</th>\n",
       "      <td>0</td>\n",
       "      <td>1</td>\n",
       "    </tr>\n",
       "    <tr>\n",
       "      <th>2</th>\n",
       "      <td>1</td>\n",
       "      <td>0</td>\n",
       "    </tr>\n",
       "    <tr>\n",
       "      <th>3</th>\n",
       "      <td>1</td>\n",
       "      <td>1</td>\n",
       "    </tr>\n",
       "  </tbody>\n",
       "</table>\n",
       "</div>"
      ],
      "text/plain": [
       "   x1  x2\n",
       "0   0   0\n",
       "1   0   1\n",
       "2   1   0\n",
       "3   1   1"
      ]
     },
     "execution_count": 63,
     "metadata": {},
     "output_type": "execute_result"
    }
   ],
   "source": [
    "x, y = prepare_data(df_or)\n",
    "x"
   ]
  },
  {
   "cell_type": "code",
   "execution_count": 64,
   "id": "b37665b3",
   "metadata": {},
   "outputs": [
    {
     "data": {
      "text/plain": [
       "0    0\n",
       "1    1\n",
       "2    1\n",
       "3    1\n",
       "Name: y, dtype: int64"
      ]
     },
     "execution_count": 64,
     "metadata": {},
     "output_type": "execute_result"
    }
   ],
   "source": [
    "y"
   ]
  },
  {
   "cell_type": "code",
   "execution_count": 44,
   "id": "ca44b4c7",
   "metadata": {},
   "outputs": [],
   "source": [
    "obj = perceptron(eta=0.01, epochs=10)"
   ]
  },
  {
   "cell_type": "code",
   "execution_count": 45,
   "id": "f8b2fb73",
   "metadata": {},
   "outputs": [
    {
     "data": {
      "text/plain": [
       "0.01"
      ]
     },
     "execution_count": 45,
     "metadata": {},
     "output_type": "execute_result"
    }
   ],
   "source": [
    "obj.eta"
   ]
  },
  {
   "cell_type": "code",
   "execution_count": 46,
   "id": "d6cdc1c3",
   "metadata": {},
   "outputs": [
    {
     "data": {
      "text/plain": [
       "array([1.70421875e-05, 2.65715761e-05, 3.64411462e-05])"
      ]
     },
     "execution_count": 46,
     "metadata": {},
     "output_type": "execute_result"
    }
   ],
   "source": [
    "obj.weights"
   ]
  },
  {
   "cell_type": "code",
   "execution_count": 47,
   "id": "be7c61c1",
   "metadata": {},
   "outputs": [
    {
     "data": {
      "text/plain": [
       "array([[1., 1.],\n",
       "       [1., 1.],\n",
       "       [1., 1.],\n",
       "       [1., 1.]])"
      ]
     },
     "execution_count": 47,
     "metadata": {},
     "output_type": "execute_result"
    }
   ],
   "source": [
    "x"
   ]
  },
  {
   "cell_type": "code",
   "execution_count": 48,
   "id": "85a38838",
   "metadata": {},
   "outputs": [
    {
     "data": {
      "text/plain": [
       "array([[1.],\n",
       "       [1.],\n",
       "       [1.],\n",
       "       [1.]])"
      ]
     },
     "execution_count": 48,
     "metadata": {},
     "output_type": "execute_result"
    }
   ],
   "source": [
    "y"
   ]
  },
  {
   "cell_type": "code",
   "execution_count": 49,
   "id": "f96b6d40",
   "metadata": {},
   "outputs": [
    {
     "name": "stdout",
     "output_type": "stream",
     "text": [
      "X with bias : \n",
      " [[ 1.  1. -1.]\n",
      " [ 1.  1. -1.]\n",
      " [ 1.  1. -1.]\n",
      " [ 1.  1. -1.]]\n"
     ]
    }
   ],
   "source": [
    "obj.fit(x,y)"
   ]
  },
  {
   "cell_type": "code",
   "execution_count": 6,
   "id": "4154481d",
   "metadata": {},
   "outputs": [
    {
     "data": {
      "text/plain": [
       "array([5.99642748e-05, 4.58421271e-05, 9.89474928e-06])"
      ]
     },
     "execution_count": 6,
     "metadata": {},
     "output_type": "execute_result"
    }
   ],
   "source": [
    "np.random.rand(3) *1e-4"
   ]
  },
  {
   "cell_type": "code",
   "execution_count": 35,
   "id": "99304959",
   "metadata": {},
   "outputs": [
    {
     "data": {
      "text/plain": [
       "array([[1., 1.],\n",
       "       [1., 1.],\n",
       "       [1., 1.],\n",
       "       [1., 1.]])"
      ]
     },
     "execution_count": 35,
     "metadata": {},
     "output_type": "execute_result"
    }
   ],
   "source": [
    "x = np.ones((4,2))\n",
    "x"
   ]
  },
  {
   "cell_type": "code",
   "execution_count": 36,
   "id": "55c2baae",
   "metadata": {},
   "outputs": [],
   "source": [
    "y = np.ones((4,1))"
   ]
  },
  {
   "cell_type": "code",
   "execution_count": 14,
   "id": "728a8ce7",
   "metadata": {},
   "outputs": [
    {
     "data": {
      "text/plain": [
       "array([[ 1.,  1., -1.],\n",
       "       [ 1.,  1., -1.],\n",
       "       [ 1.,  1., -1.],\n",
       "       [ 1.,  1., -1.]])"
      ]
     },
     "execution_count": 14,
     "metadata": {},
     "output_type": "execute_result"
    }
   ],
   "source": [
    "np.c_[x,y] # concatination"
   ]
  },
  {
   "cell_type": "code",
   "execution_count": 50,
   "id": "f1f3f05a",
   "metadata": {},
   "outputs": [],
   "source": [
    "z = 34"
   ]
  },
  {
   "cell_type": "code",
   "execution_count": 53,
   "id": "bbec27de",
   "metadata": {},
   "outputs": [
    {
     "data": {
      "text/plain": [
       "array(0)"
      ]
     },
     "execution_count": 53,
     "metadata": {},
     "output_type": "execute_result"
    }
   ],
   "source": [
    "np.where(z> 0, 1, 0)"
   ]
  },
  {
   "cell_type": "code",
   "execution_count": 52,
   "id": "9d3e625b",
   "metadata": {},
   "outputs": [],
   "source": [
    "z = -8"
   ]
  },
  {
   "cell_type": "code",
   "execution_count": 54,
   "id": "8992ff51",
   "metadata": {},
   "outputs": [],
   "source": [
    "#while training = forward + backword\n",
    "#while prediction =  Forward"
   ]
  },
  {
   "cell_type": "code",
   "execution_count": null,
   "id": "c9edc9cf",
   "metadata": {},
   "outputs": [],
   "source": []
  }
 ],
 "metadata": {
  "kernelspec": {
   "display_name": "Python 3 (ipykernel)",
   "language": "python",
   "name": "python3"
  },
  "language_info": {
   "codemirror_mode": {
    "name": "ipython",
    "version": 3
   },
   "file_extension": ".py",
   "mimetype": "text/x-python",
   "name": "python",
   "nbconvert_exporter": "python",
   "pygments_lexer": "ipython3",
   "version": "3.7.11"
  }
 },
 "nbformat": 4,
 "nbformat_minor": 5
}
